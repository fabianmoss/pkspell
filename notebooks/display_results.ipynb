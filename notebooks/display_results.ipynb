{
 "cells": [
  {
   "cell_type": "code",
   "execution_count": 5,
   "metadata": {},
   "outputs": [],
   "source": [
    "\n",
    "import torch\n",
    "\n",
    "from models import RNNTagger, RNNMultiTagger\n",
    "from datasets import transform_chrom, accepted_pitches, accepted_ks\n",
    "\n",
    "device = torch.device(\"cuda\") if torch.cuda.is_available() else torch.device(\"cpu\")"
   ]
  },
  {
   "cell_type": "code",
   "execution_count": 6,
   "metadata": {},
   "outputs": [],
   "source": [
    "model = torch.load(\"./models/pkspell.pkl\",map_location='cpu')"
   ]
  },
  {
   "cell_type": "code",
   "execution_count": 7,
   "metadata": {},
   "outputs": [],
   "source": [
    "def prepare_data(p_list, d_list):\n",
    "    return transform_chrom(p_list, d_list)\n",
    "\n",
    "def predict(model,input):\n",
    "    model.eval()\n",
    "    with torch.no_grad():\n",
    "        input = input.to(device)\n",
    "        tpc,ks = model.predict(input,[len(input)])\n",
    "    return tpc,ks\n",
    "\n",
    "def single_piece_predict(p_list, d_list, model):\n",
    "    input = prepare_data(p_list, d_list)\n",
    "    # put the \n",
    "    input = input.view(-1,1,17)\n",
    "    tpc_out,ks_out = predict(model,input)\n",
    "    print(tpc_out,ks_out)\n",
    "    return [accepted_pitches[e] for e in tpc_out[0]],[accepted_ks[e] for e in ks_out[0]]"
   ]
  },
  {
   "cell_type": "code",
   "execution_count": 14,
   "metadata": {},
   "outputs": [
    {
     "output_type": "stream",
     "name": "stdout",
     "text": [
      "[array([10, 15, 21, 25,  0, 10, 25,  5, 15, 25, 15, 10,  5,  0, 30, 25],\n      dtype=int64)] [array([2, 2, 2, 2, 2, 2, 2, 2, 2, 2, 2, 2, 2, 2, 3, 3], dtype=int64)]\n"
     ]
    },
    {
     "output_type": "execute_result",
     "data": {
      "text/plain": [
       "(['E-',\n",
       "  'F',\n",
       "  'G',\n",
       "  'A-',\n",
       "  'C',\n",
       "  'E-',\n",
       "  'A-',\n",
       "  'D-',\n",
       "  'F',\n",
       "  'A-',\n",
       "  'F',\n",
       "  'E-',\n",
       "  'D-',\n",
       "  'C',\n",
       "  'B-',\n",
       "  'A-'],\n",
       " [-5, -5, -5, -5, -5, -5, -5, -5, -5, -5, -5, -5, -5, -5, -4, -4])"
      ]
     },
     "metadata": {},
     "execution_count": 14
    }
   ],
   "source": [
    "p_list = [3,5,7,8,0,3,8,1,5,8,5,3,1,0,10,8]\n",
    "d_list = [1,1,1,3,1,1,3,1,1,1,1,1,1,1,1,3]\n",
    "\n",
    "single_piece_predict(p_list, d_list, model)"
   ]
  },
  {
   "cell_type": "code",
   "execution_count": null,
   "metadata": {},
   "outputs": [],
   "source": [
    "## Change the model name and parameters\n"
   ]
  }
 ],
 "metadata": {
  "kernelspec": {
   "name": "python377jvsc74a57bd0026d29534bbf2a94953c2fa95040253aaa49038ae772501eb71cde604d8881b3",
   "display_name": "Python 3.7.7 64-bit"
  },
  "language_info": {
   "codemirror_mode": {
    "name": "ipython",
    "version": 3
   },
   "file_extension": ".py",
   "mimetype": "text/x-python",
   "name": "python",
   "nbconvert_exporter": "python",
   "pygments_lexer": "ipython3",
   "version": "3.7.7"
  }
 },
 "nbformat": 4,
 "nbformat_minor": 4
}