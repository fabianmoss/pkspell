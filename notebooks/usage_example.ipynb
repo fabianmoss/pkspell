{
 "cells": [
  {
   "cell_type": "code",
   "execution_count": 1,
   "metadata": {},
   "outputs": [
    {
     "name": "stdout",
     "output_type": "stream",
     "text": [
      "Using cpu\n"
     ]
    }
   ],
   "source": [
    "import torch\r\n",
    "import sys\r\n",
    "import os\r\n",
    "from pathlib import Path\r\n",
    "sys.path.append(os.path.dirname(os.getcwd()))\r\n",
    "from src.models.inference import single_piece_predict\r\n",
    "from src.models.models import PKSpell, PKSpell_single\r\n",
    "\r\n",
    "device = torch.device(\"cuda\") if torch.cuda.is_available() else torch.device(\"cpu\")\r\n",
    "print(\"Using\", device)"
   ]
  },
  {
   "cell_type": "code",
   "execution_count": 2,
   "metadata": {},
   "outputs": [],
   "source": [
    "model = torch.load(Path(\"../models/pkspell.pt\"))\r\n",
    "\r\n",
    "## if the load cause problems, loading the state_dict should work\r\n",
    "# model = PKSpell()\r\n",
    "# model.load_state_dict(torch.load(Path(\"../models/pkspell_statedict.pt\")))\r\n",
    "# torch.save(model,Path(\"../models/pkspell.pt\"))"
   ]
  },
  {
   "cell_type": "code",
   "execution_count": 5,
   "metadata": {},
   "outputs": [
    {
     "data": {
      "text/plain": [
       "(['E-', 'F', 'G', 'A-', 'C', 'E-', 'D-', 'F', 'E-', 'A-'],\n",
       " [-4, -4, -4, -4, -4, -4, -4, -4, -4, -4])"
      ]
     },
     "execution_count": 5,
     "metadata": {},
     "output_type": "execute_result"
    }
   ],
   "source": [
    "# midi-numbers % 12\r\n",
    "p_list = [3,5,7,8,0,3,1,5,3,8]\r\n",
    "# any kind of durations, e.g. seconds, milliseconds, quarterLengths, tatums.\r\n",
    "d_list = [2.1,2,2,4,1,1,2,2,2,16]\r\n",
    "\r\n",
    "single_piece_predict(p_list, d_list, model, device)\r\n",
    "\r\n",
    "# -4 is a key signature for Ab maj, or F min "
   ]
  },
  {
   "cell_type": "code",
   "execution_count": null,
   "metadata": {},
   "outputs": [],
   "source": []
  }
 ],
 "metadata": {
  "interpreter": {
   "hash": "026d29534bbf2a94953c2fa95040253aaa49038ae772501eb71cde604d8881b3"
  },
  "kernelspec": {
   "display_name": "Python 3.7.7 64-bit ('mir_research': conda)",
   "name": "python3"
  },
  "language_info": {
   "codemirror_mode": {
    "name": "ipython",
    "version": 3
   },
   "file_extension": ".py",
   "mimetype": "text/x-python",
   "name": "python",
   "nbconvert_exporter": "python",
   "pygments_lexer": "ipython3",
   "version": "3.7.10"
  }
 },
 "nbformat": 4,
 "nbformat_minor": 4
}