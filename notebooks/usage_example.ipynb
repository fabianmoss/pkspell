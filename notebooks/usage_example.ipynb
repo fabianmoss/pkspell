{
 "cells": [
  {
   "cell_type": "code",
   "execution_count": 2,
   "source": [
    "import torch\r\n",
    "import sys\r\n",
    "import os\r\n",
    "from pathlib import Path\r\n",
    "sys.path.append(os.path.dirname(os.getcwd()))\r\n",
    "from src.models.inference import single_piece_predict\r\n",
    "from src.models.models import PKSpell\r\n",
    "from src.models.process_score import process_score\r\n",
    "\r\n",
    "device = torch.device(\"cuda\") if torch.cuda.is_available() else torch.device(\"cpu\")\r\n",
    "print(\"Using\", device)"
   ],
   "outputs": [
    {
     "output_type": "stream",
     "name": "stdout",
     "text": [
      "Using cpu\n"
     ]
    }
   ],
   "metadata": {}
  },
  {
   "cell_type": "markdown",
   "source": [
    "## Process list of notes and durations\r\n",
    "Example: you are extracting the notes from a MIDI file"
   ],
   "metadata": {}
  },
  {
   "cell_type": "code",
   "execution_count": 4,
   "source": [
    "model = torch.load(Path(\"../models/pkspell.pt\"))\r\n",
    "\r\n",
    "## if the load cause problems, loading the state_dict should work\r\n",
    "# model = PKSpell()\r\n",
    "# model.load_state_dict(torch.load(Path(\"../models/pkspell_statedict.pt\")))"
   ],
   "outputs": [],
   "metadata": {}
  },
  {
   "cell_type": "code",
   "execution_count": 5,
   "source": [
    "# midi-numbers % 12\r\n",
    "p_list = [3,5,7,8,0,3,1,5,3,8]\r\n",
    "# any kind of durations, e.g. seconds, milliseconds, quarterLengths, tatums.\r\n",
    "d_list = [2.1,2,2,4,1,1,2,2,2,16]\r\n",
    "\r\n",
    "single_piece_predict(p_list, d_list, model, device)\r\n",
    "\r\n",
    "# -4 is a key signature for Ab maj, or F min "
   ],
   "outputs": [
    {
     "output_type": "execute_result",
     "data": {
      "text/plain": [
       "(['E-', 'F', 'G', 'A-', 'C', 'E-', 'D-', 'F', 'E-', 'A-'],\n",
       " [-4, -4, -4, -4, -4, -4, -4, -4, -4, -4])"
      ]
     },
     "metadata": {},
     "execution_count": 5
    }
   ],
   "metadata": {}
  },
  {
   "cell_type": "markdown",
   "source": [
    "## Process an entire musical score\r\n",
    "Example: you have already built a musical score (e.g. musicxml), as a result of music generation or music transcription, but the key signature and tonal pitch class are still random and you need to set them to have a more readable score."
   ],
   "metadata": {}
  },
  {
   "cell_type": "code",
   "execution_count": 3,
   "source": [
    "model = torch.load(Path(\"../models/pkspell.pt\"))\r\n",
    "\r\n",
    "## if the load cause problems, loading the state_dict should work\r\n",
    "# model = PKSpell()\r\n",
    "# model.load_state_dict(torch.load(Path(\"../models/pkspell_statedict.pt\")))\r\n",
    "\r\n",
    "process_score(\"../tests/test_scores/bach_bwv867P_wrong.xml\", \"../tests/test_scores/pkspelled_score.xml\", model, device)"
   ],
   "outputs": [
    {
     "output_type": "stream",
     "name": "stdout",
     "text": [
      "Parsing the musical score\n",
      "Running PKSpell\n",
      "Score saved in  ../tests/test_scores/pkspelled_score2.xml\n"
     ]
    }
   ],
   "metadata": {}
  },
  {
   "cell_type": "code",
   "execution_count": null,
   "source": [],
   "outputs": [],
   "metadata": {}
  }
 ],
 "metadata": {
  "interpreter": {
   "hash": "37c80ecac1b1d3ecd73a1d32c6a6643a1d20405a7a3555fcf6e35352c72821c1"
  },
  "kernelspec": {
   "name": "python3",
   "display_name": "Python 3.7.10 64-bit ('pkspell': conda)"
  },
  "language_info": {
   "codemirror_mode": {
    "name": "ipython",
    "version": 3
   },
   "file_extension": ".py",
   "mimetype": "text/x-python",
   "name": "python",
   "nbconvert_exporter": "python",
   "pygments_lexer": "ipython3",
   "version": "3.7.10"
  }
 },
 "nbformat": 4,
 "nbformat_minor": 4
}